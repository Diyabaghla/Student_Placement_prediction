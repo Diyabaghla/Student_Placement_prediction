{
  "nbformat": 4,
  "nbformat_minor": 0,
  "metadata": {
    "colab": {
      "provenance": [],
      "authorship_tag": "ABX9TyOS9jih3xqlgxUIL2ZT/bct",
      "include_colab_link": true
    },
    "kernelspec": {
      "name": "python3",
      "display_name": "Python 3"
    },
    "language_info": {
      "name": "python"
    }
  },
  "cells": [
    {
      "cell_type": "markdown",
      "metadata": {
        "id": "view-in-github",
        "colab_type": "text"
      },
      "source": [
        "<a href=\"https://colab.research.google.com/github/Diyabaghla/Student_Placement_prediction/blob/main/Student_Placement_prediction.ipynb\" target=\"_parent\"><img src=\"https://colab.research.google.com/assets/colab-badge.svg\" alt=\"Open In Colab\"/></a>"
      ]
    },
    {
      "cell_type": "code",
      "source": [
        "!pip install optuna"
      ],
      "metadata": {
        "colab": {
          "base_uri": "https://localhost:8080/"
        },
        "id": "l2XGnLc5UCXM",
        "outputId": "5090a227-c8f8-437e-d3e8-e35380847102"
      },
      "execution_count": 5,
      "outputs": [
        {
          "output_type": "stream",
          "name": "stdout",
          "text": [
            "Collecting optuna\n",
            "  Downloading optuna-3.6.1-py3-none-any.whl (380 kB)\n",
            "\u001b[2K     \u001b[90m━━━━━━━━━━━━━━━━━━━━━━━━━━━━━━━━━━━━━━━━\u001b[0m \u001b[32m380.1/380.1 kB\u001b[0m \u001b[31m6.0 MB/s\u001b[0m eta \u001b[36m0:00:00\u001b[0m\n",
            "\u001b[?25hCollecting alembic>=1.5.0 (from optuna)\n",
            "  Downloading alembic-1.13.2-py3-none-any.whl (232 kB)\n",
            "\u001b[2K     \u001b[90m━━━━━━━━━━━━━━━━━━━━━━━━━━━━━━━━━━━━━━━━\u001b[0m \u001b[32m233.0/233.0 kB\u001b[0m \u001b[31m8.4 MB/s\u001b[0m eta \u001b[36m0:00:00\u001b[0m\n",
            "\u001b[?25hCollecting colorlog (from optuna)\n",
            "  Downloading colorlog-6.8.2-py3-none-any.whl (11 kB)\n",
            "Requirement already satisfied: numpy in /usr/local/lib/python3.10/dist-packages (from optuna) (1.25.2)\n",
            "Requirement already satisfied: packaging>=20.0 in /usr/local/lib/python3.10/dist-packages (from optuna) (24.1)\n",
            "Requirement already satisfied: sqlalchemy>=1.3.0 in /usr/local/lib/python3.10/dist-packages (from optuna) (2.0.31)\n",
            "Requirement already satisfied: tqdm in /usr/local/lib/python3.10/dist-packages (from optuna) (4.66.4)\n",
            "Requirement already satisfied: PyYAML in /usr/local/lib/python3.10/dist-packages (from optuna) (6.0.1)\n",
            "Collecting Mako (from alembic>=1.5.0->optuna)\n",
            "  Downloading Mako-1.3.5-py3-none-any.whl (78 kB)\n",
            "\u001b[2K     \u001b[90m━━━━━━━━━━━━━━━━━━━━━━━━━━━━━━━━━━━━━━━━\u001b[0m \u001b[32m78.6/78.6 kB\u001b[0m \u001b[31m7.7 MB/s\u001b[0m eta \u001b[36m0:00:00\u001b[0m\n",
            "\u001b[?25hRequirement already satisfied: typing-extensions>=4 in /usr/local/lib/python3.10/dist-packages (from alembic>=1.5.0->optuna) (4.12.2)\n",
            "Requirement already satisfied: greenlet!=0.4.17 in /usr/local/lib/python3.10/dist-packages (from sqlalchemy>=1.3.0->optuna) (3.0.3)\n",
            "Requirement already satisfied: MarkupSafe>=0.9.2 in /usr/local/lib/python3.10/dist-packages (from Mako->alembic>=1.5.0->optuna) (2.1.5)\n",
            "Installing collected packages: Mako, colorlog, alembic, optuna\n",
            "Successfully installed Mako-1.3.5 alembic-1.13.2 colorlog-6.8.2 optuna-3.6.1\n"
          ]
        }
      ]
    },
    {
      "cell_type": "code",
      "execution_count": 8,
      "metadata": {
        "id": "d5EYYqkHQwWI"
      },
      "outputs": [],
      "source": [
        "import numpy as np\n",
        "import pandas as pd\n",
        "import warnings\n",
        "warnings.simplefilter(\"ignore\")\n",
        "import optuna\n",
        "from sklearn.model_selection import train_test_split\n",
        "from sklearn.neighbors import KNeighborsClassifier\n",
        "\n"
      ]
    },
    {
      "cell_type": "code",
      "source": [
        "data=pd.read_csv(\"/content/student_performance.csv\")\n",
        "data.head()"
      ],
      "metadata": {
        "colab": {
          "base_uri": "https://localhost:8080/",
          "height": 206
        },
        "id": "uy01EOFmTRC9",
        "outputId": "b124a391-5d6a-4e01-863e-2c987db11e6c"
      },
      "execution_count": 9,
      "outputs": [
        {
          "output_type": "execute_result",
          "data": {
            "text/plain": [
              "    IQ  CGPA  10th_Marks  12th_Marks  Communication_Skills  Placed\n",
              "0  114  3.14          54          97                  2.62       0\n",
              "1  117  6.09          89          75                  4.56       1\n",
              "2  134  9.86          73          80                  6.83       1\n",
              "3  137  5.52         100          63                  6.96       1\n",
              "4  137  6.37          82          58                  2.84       1"
            ],
            "text/html": [
              "\n",
              "  <div id=\"df-d3171b15-7864-47c6-bbdc-c8f4bd8c416b\" class=\"colab-df-container\">\n",
              "    <div>\n",
              "<style scoped>\n",
              "    .dataframe tbody tr th:only-of-type {\n",
              "        vertical-align: middle;\n",
              "    }\n",
              "\n",
              "    .dataframe tbody tr th {\n",
              "        vertical-align: top;\n",
              "    }\n",
              "\n",
              "    .dataframe thead th {\n",
              "        text-align: right;\n",
              "    }\n",
              "</style>\n",
              "<table border=\"1\" class=\"dataframe\">\n",
              "  <thead>\n",
              "    <tr style=\"text-align: right;\">\n",
              "      <th></th>\n",
              "      <th>IQ</th>\n",
              "      <th>CGPA</th>\n",
              "      <th>10th_Marks</th>\n",
              "      <th>12th_Marks</th>\n",
              "      <th>Communication_Skills</th>\n",
              "      <th>Placed</th>\n",
              "    </tr>\n",
              "  </thead>\n",
              "  <tbody>\n",
              "    <tr>\n",
              "      <th>0</th>\n",
              "      <td>114</td>\n",
              "      <td>3.14</td>\n",
              "      <td>54</td>\n",
              "      <td>97</td>\n",
              "      <td>2.62</td>\n",
              "      <td>0</td>\n",
              "    </tr>\n",
              "    <tr>\n",
              "      <th>1</th>\n",
              "      <td>117</td>\n",
              "      <td>6.09</td>\n",
              "      <td>89</td>\n",
              "      <td>75</td>\n",
              "      <td>4.56</td>\n",
              "      <td>1</td>\n",
              "    </tr>\n",
              "    <tr>\n",
              "      <th>2</th>\n",
              "      <td>134</td>\n",
              "      <td>9.86</td>\n",
              "      <td>73</td>\n",
              "      <td>80</td>\n",
              "      <td>6.83</td>\n",
              "      <td>1</td>\n",
              "    </tr>\n",
              "    <tr>\n",
              "      <th>3</th>\n",
              "      <td>137</td>\n",
              "      <td>5.52</td>\n",
              "      <td>100</td>\n",
              "      <td>63</td>\n",
              "      <td>6.96</td>\n",
              "      <td>1</td>\n",
              "    </tr>\n",
              "    <tr>\n",
              "      <th>4</th>\n",
              "      <td>137</td>\n",
              "      <td>6.37</td>\n",
              "      <td>82</td>\n",
              "      <td>58</td>\n",
              "      <td>2.84</td>\n",
              "      <td>1</td>\n",
              "    </tr>\n",
              "  </tbody>\n",
              "</table>\n",
              "</div>\n",
              "    <div class=\"colab-df-buttons\">\n",
              "\n",
              "  <div class=\"colab-df-container\">\n",
              "    <button class=\"colab-df-convert\" onclick=\"convertToInteractive('df-d3171b15-7864-47c6-bbdc-c8f4bd8c416b')\"\n",
              "            title=\"Convert this dataframe to an interactive table.\"\n",
              "            style=\"display:none;\">\n",
              "\n",
              "  <svg xmlns=\"http://www.w3.org/2000/svg\" height=\"24px\" viewBox=\"0 -960 960 960\">\n",
              "    <path d=\"M120-120v-720h720v720H120Zm60-500h600v-160H180v160Zm220 220h160v-160H400v160Zm0 220h160v-160H400v160ZM180-400h160v-160H180v160Zm440 0h160v-160H620v160ZM180-180h160v-160H180v160Zm440 0h160v-160H620v160Z\"/>\n",
              "  </svg>\n",
              "    </button>\n",
              "\n",
              "  <style>\n",
              "    .colab-df-container {\n",
              "      display:flex;\n",
              "      gap: 12px;\n",
              "    }\n",
              "\n",
              "    .colab-df-convert {\n",
              "      background-color: #E8F0FE;\n",
              "      border: none;\n",
              "      border-radius: 50%;\n",
              "      cursor: pointer;\n",
              "      display: none;\n",
              "      fill: #1967D2;\n",
              "      height: 32px;\n",
              "      padding: 0 0 0 0;\n",
              "      width: 32px;\n",
              "    }\n",
              "\n",
              "    .colab-df-convert:hover {\n",
              "      background-color: #E2EBFA;\n",
              "      box-shadow: 0px 1px 2px rgba(60, 64, 67, 0.3), 0px 1px 3px 1px rgba(60, 64, 67, 0.15);\n",
              "      fill: #174EA6;\n",
              "    }\n",
              "\n",
              "    .colab-df-buttons div {\n",
              "      margin-bottom: 4px;\n",
              "    }\n",
              "\n",
              "    [theme=dark] .colab-df-convert {\n",
              "      background-color: #3B4455;\n",
              "      fill: #D2E3FC;\n",
              "    }\n",
              "\n",
              "    [theme=dark] .colab-df-convert:hover {\n",
              "      background-color: #434B5C;\n",
              "      box-shadow: 0px 1px 3px 1px rgba(0, 0, 0, 0.15);\n",
              "      filter: drop-shadow(0px 1px 2px rgba(0, 0, 0, 0.3));\n",
              "      fill: #FFFFFF;\n",
              "    }\n",
              "  </style>\n",
              "\n",
              "    <script>\n",
              "      const buttonEl =\n",
              "        document.querySelector('#df-d3171b15-7864-47c6-bbdc-c8f4bd8c416b button.colab-df-convert');\n",
              "      buttonEl.style.display =\n",
              "        google.colab.kernel.accessAllowed ? 'block' : 'none';\n",
              "\n",
              "      async function convertToInteractive(key) {\n",
              "        const element = document.querySelector('#df-d3171b15-7864-47c6-bbdc-c8f4bd8c416b');\n",
              "        const dataTable =\n",
              "          await google.colab.kernel.invokeFunction('convertToInteractive',\n",
              "                                                    [key], {});\n",
              "        if (!dataTable) return;\n",
              "\n",
              "        const docLinkHtml = 'Like what you see? Visit the ' +\n",
              "          '<a target=\"_blank\" href=https://colab.research.google.com/notebooks/data_table.ipynb>data table notebook</a>'\n",
              "          + ' to learn more about interactive tables.';\n",
              "        element.innerHTML = '';\n",
              "        dataTable['output_type'] = 'display_data';\n",
              "        await google.colab.output.renderOutput(dataTable, element);\n",
              "        const docLink = document.createElement('div');\n",
              "        docLink.innerHTML = docLinkHtml;\n",
              "        element.appendChild(docLink);\n",
              "      }\n",
              "    </script>\n",
              "  </div>\n",
              "\n",
              "\n",
              "<div id=\"df-ea84a8ac-5bcb-4d2b-abc7-894fee4986b7\">\n",
              "  <button class=\"colab-df-quickchart\" onclick=\"quickchart('df-ea84a8ac-5bcb-4d2b-abc7-894fee4986b7')\"\n",
              "            title=\"Suggest charts\"\n",
              "            style=\"display:none;\">\n",
              "\n",
              "<svg xmlns=\"http://www.w3.org/2000/svg\" height=\"24px\"viewBox=\"0 0 24 24\"\n",
              "     width=\"24px\">\n",
              "    <g>\n",
              "        <path d=\"M19 3H5c-1.1 0-2 .9-2 2v14c0 1.1.9 2 2 2h14c1.1 0 2-.9 2-2V5c0-1.1-.9-2-2-2zM9 17H7v-7h2v7zm4 0h-2V7h2v10zm4 0h-2v-4h2v4z\"/>\n",
              "    </g>\n",
              "</svg>\n",
              "  </button>\n",
              "\n",
              "<style>\n",
              "  .colab-df-quickchart {\n",
              "      --bg-color: #E8F0FE;\n",
              "      --fill-color: #1967D2;\n",
              "      --hover-bg-color: #E2EBFA;\n",
              "      --hover-fill-color: #174EA6;\n",
              "      --disabled-fill-color: #AAA;\n",
              "      --disabled-bg-color: #DDD;\n",
              "  }\n",
              "\n",
              "  [theme=dark] .colab-df-quickchart {\n",
              "      --bg-color: #3B4455;\n",
              "      --fill-color: #D2E3FC;\n",
              "      --hover-bg-color: #434B5C;\n",
              "      --hover-fill-color: #FFFFFF;\n",
              "      --disabled-bg-color: #3B4455;\n",
              "      --disabled-fill-color: #666;\n",
              "  }\n",
              "\n",
              "  .colab-df-quickchart {\n",
              "    background-color: var(--bg-color);\n",
              "    border: none;\n",
              "    border-radius: 50%;\n",
              "    cursor: pointer;\n",
              "    display: none;\n",
              "    fill: var(--fill-color);\n",
              "    height: 32px;\n",
              "    padding: 0;\n",
              "    width: 32px;\n",
              "  }\n",
              "\n",
              "  .colab-df-quickchart:hover {\n",
              "    background-color: var(--hover-bg-color);\n",
              "    box-shadow: 0 1px 2px rgba(60, 64, 67, 0.3), 0 1px 3px 1px rgba(60, 64, 67, 0.15);\n",
              "    fill: var(--button-hover-fill-color);\n",
              "  }\n",
              "\n",
              "  .colab-df-quickchart-complete:disabled,\n",
              "  .colab-df-quickchart-complete:disabled:hover {\n",
              "    background-color: var(--disabled-bg-color);\n",
              "    fill: var(--disabled-fill-color);\n",
              "    box-shadow: none;\n",
              "  }\n",
              "\n",
              "  .colab-df-spinner {\n",
              "    border: 2px solid var(--fill-color);\n",
              "    border-color: transparent;\n",
              "    border-bottom-color: var(--fill-color);\n",
              "    animation:\n",
              "      spin 1s steps(1) infinite;\n",
              "  }\n",
              "\n",
              "  @keyframes spin {\n",
              "    0% {\n",
              "      border-color: transparent;\n",
              "      border-bottom-color: var(--fill-color);\n",
              "      border-left-color: var(--fill-color);\n",
              "    }\n",
              "    20% {\n",
              "      border-color: transparent;\n",
              "      border-left-color: var(--fill-color);\n",
              "      border-top-color: var(--fill-color);\n",
              "    }\n",
              "    30% {\n",
              "      border-color: transparent;\n",
              "      border-left-color: var(--fill-color);\n",
              "      border-top-color: var(--fill-color);\n",
              "      border-right-color: var(--fill-color);\n",
              "    }\n",
              "    40% {\n",
              "      border-color: transparent;\n",
              "      border-right-color: var(--fill-color);\n",
              "      border-top-color: var(--fill-color);\n",
              "    }\n",
              "    60% {\n",
              "      border-color: transparent;\n",
              "      border-right-color: var(--fill-color);\n",
              "    }\n",
              "    80% {\n",
              "      border-color: transparent;\n",
              "      border-right-color: var(--fill-color);\n",
              "      border-bottom-color: var(--fill-color);\n",
              "    }\n",
              "    90% {\n",
              "      border-color: transparent;\n",
              "      border-bottom-color: var(--fill-color);\n",
              "    }\n",
              "  }\n",
              "</style>\n",
              "\n",
              "  <script>\n",
              "    async function quickchart(key) {\n",
              "      const quickchartButtonEl =\n",
              "        document.querySelector('#' + key + ' button');\n",
              "      quickchartButtonEl.disabled = true;  // To prevent multiple clicks.\n",
              "      quickchartButtonEl.classList.add('colab-df-spinner');\n",
              "      try {\n",
              "        const charts = await google.colab.kernel.invokeFunction(\n",
              "            'suggestCharts', [key], {});\n",
              "      } catch (error) {\n",
              "        console.error('Error during call to suggestCharts:', error);\n",
              "      }\n",
              "      quickchartButtonEl.classList.remove('colab-df-spinner');\n",
              "      quickchartButtonEl.classList.add('colab-df-quickchart-complete');\n",
              "    }\n",
              "    (() => {\n",
              "      let quickchartButtonEl =\n",
              "        document.querySelector('#df-ea84a8ac-5bcb-4d2b-abc7-894fee4986b7 button');\n",
              "      quickchartButtonEl.style.display =\n",
              "        google.colab.kernel.accessAllowed ? 'block' : 'none';\n",
              "    })();\n",
              "  </script>\n",
              "</div>\n",
              "\n",
              "    </div>\n",
              "  </div>\n"
            ],
            "application/vnd.google.colaboratory.intrinsic+json": {
              "type": "dataframe",
              "variable_name": "data",
              "summary": "{\n  \"name\": \"data\",\n  \"rows\": 100,\n  \"fields\": [\n    {\n      \"column\": \"IQ\",\n      \"properties\": {\n        \"dtype\": \"number\",\n        \"std\": 23,\n        \"min\": 70,\n        \"max\": 150,\n        \"num_unique_values\": 56,\n        \"samples\": [\n          114,\n          91,\n          98\n        ],\n        \"semantic_type\": \"\",\n        \"description\": \"\"\n      }\n    },\n    {\n      \"column\": \"CGPA\",\n      \"properties\": {\n        \"dtype\": \"number\",\n        \"std\": 2.0418011557436144,\n        \"min\": 3.07,\n        \"max\": 9.89,\n        \"num_unique_values\": 95,\n        \"samples\": [\n          4.82,\n          6.87,\n          6.28\n        ],\n        \"semantic_type\": \"\",\n        \"description\": \"\"\n      }\n    },\n    {\n      \"column\": \"10th_Marks\",\n      \"properties\": {\n        \"dtype\": \"number\",\n        \"std\": 22,\n        \"min\": 20,\n        \"max\": 100,\n        \"num_unique_values\": 61,\n        \"samples\": [\n          54,\n          28,\n          75\n        ],\n        \"semantic_type\": \"\",\n        \"description\": \"\"\n      }\n    },\n    {\n      \"column\": \"12th_Marks\",\n      \"properties\": {\n        \"dtype\": \"number\",\n        \"std\": 26,\n        \"min\": 10,\n        \"max\": 99,\n        \"num_unique_values\": 62,\n        \"samples\": [\n          20,\n          84,\n          97\n        ],\n        \"semantic_type\": \"\",\n        \"description\": \"\"\n      }\n    },\n    {\n      \"column\": \"Communication_Skills\",\n      \"properties\": {\n        \"dtype\": \"number\",\n        \"std\": 2.930113761710568,\n        \"min\": 0.12,\n        \"max\": 9.9,\n        \"num_unique_values\": 93,\n        \"samples\": [\n          8.82,\n          5.19,\n          9.52\n        ],\n        \"semantic_type\": \"\",\n        \"description\": \"\"\n      }\n    },\n    {\n      \"column\": \"Placed\",\n      \"properties\": {\n        \"dtype\": \"number\",\n        \"std\": 0,\n        \"min\": 0,\n        \"max\": 1,\n        \"num_unique_values\": 2,\n        \"samples\": [\n          1,\n          0\n        ],\n        \"semantic_type\": \"\",\n        \"description\": \"\"\n      }\n    }\n  ]\n}"
            }
          },
          "metadata": {},
          "execution_count": 9
        }
      ]
    },
    {
      "cell_type": "code",
      "source": [
        "data.isnull().sum()"
      ],
      "metadata": {
        "colab": {
          "base_uri": "https://localhost:8080/"
        },
        "id": "jpYksTydVulD",
        "outputId": "4107d395-ee83-4fd1-edc4-21e1429c6b1a"
      },
      "execution_count": 11,
      "outputs": [
        {
          "output_type": "execute_result",
          "data": {
            "text/plain": [
              "IQ                      0\n",
              "CGPA                    0\n",
              "10th_Marks              0\n",
              "12th_Marks              0\n",
              "Communication_Skills    0\n",
              "Placed                  0\n",
              "dtype: int64"
            ]
          },
          "metadata": {},
          "execution_count": 11
        }
      ]
    },
    {
      "cell_type": "code",
      "source": [
        "data.describe()"
      ],
      "metadata": {
        "colab": {
          "base_uri": "https://localhost:8080/",
          "height": 300
        },
        "id": "1YZQ0CxKVzts",
        "outputId": "72e1bcf6-c1de-4957-de95-2d7ce117193f"
      },
      "execution_count": 12,
      "outputs": [
        {
          "output_type": "execute_result",
          "data": {
            "text/plain": [
              "               IQ        CGPA  10th_Marks  12th_Marks  Communication_Skills  \\\n",
              "count  100.000000  100.000000  100.000000  100.000000            100.000000   \n",
              "mean   111.230000    6.406600   60.500000   53.180000              4.784900   \n",
              "std     23.993204    2.041801   22.451069   26.458422              2.930114   \n",
              "min     70.000000    3.070000   20.000000   10.000000              0.120000   \n",
              "25%     90.750000    4.802500   41.750000   31.500000              2.490000   \n",
              "50%    111.500000    6.140000   59.500000   52.500000              4.550000   \n",
              "75%    134.000000    8.242500   78.750000   75.250000              7.060000   \n",
              "max    150.000000    9.890000  100.000000   99.000000              9.900000   \n",
              "\n",
              "           Placed  \n",
              "count  100.000000  \n",
              "mean     0.500000  \n",
              "std      0.502519  \n",
              "min      0.000000  \n",
              "25%      0.000000  \n",
              "50%      0.500000  \n",
              "75%      1.000000  \n",
              "max      1.000000  "
            ],
            "text/html": [
              "\n",
              "  <div id=\"df-97ee7823-4682-4553-9ce8-2a9df4516001\" class=\"colab-df-container\">\n",
              "    <div>\n",
              "<style scoped>\n",
              "    .dataframe tbody tr th:only-of-type {\n",
              "        vertical-align: middle;\n",
              "    }\n",
              "\n",
              "    .dataframe tbody tr th {\n",
              "        vertical-align: top;\n",
              "    }\n",
              "\n",
              "    .dataframe thead th {\n",
              "        text-align: right;\n",
              "    }\n",
              "</style>\n",
              "<table border=\"1\" class=\"dataframe\">\n",
              "  <thead>\n",
              "    <tr style=\"text-align: right;\">\n",
              "      <th></th>\n",
              "      <th>IQ</th>\n",
              "      <th>CGPA</th>\n",
              "      <th>10th_Marks</th>\n",
              "      <th>12th_Marks</th>\n",
              "      <th>Communication_Skills</th>\n",
              "      <th>Placed</th>\n",
              "    </tr>\n",
              "  </thead>\n",
              "  <tbody>\n",
              "    <tr>\n",
              "      <th>count</th>\n",
              "      <td>100.000000</td>\n",
              "      <td>100.000000</td>\n",
              "      <td>100.000000</td>\n",
              "      <td>100.000000</td>\n",
              "      <td>100.000000</td>\n",
              "      <td>100.000000</td>\n",
              "    </tr>\n",
              "    <tr>\n",
              "      <th>mean</th>\n",
              "      <td>111.230000</td>\n",
              "      <td>6.406600</td>\n",
              "      <td>60.500000</td>\n",
              "      <td>53.180000</td>\n",
              "      <td>4.784900</td>\n",
              "      <td>0.500000</td>\n",
              "    </tr>\n",
              "    <tr>\n",
              "      <th>std</th>\n",
              "      <td>23.993204</td>\n",
              "      <td>2.041801</td>\n",
              "      <td>22.451069</td>\n",
              "      <td>26.458422</td>\n",
              "      <td>2.930114</td>\n",
              "      <td>0.502519</td>\n",
              "    </tr>\n",
              "    <tr>\n",
              "      <th>min</th>\n",
              "      <td>70.000000</td>\n",
              "      <td>3.070000</td>\n",
              "      <td>20.000000</td>\n",
              "      <td>10.000000</td>\n",
              "      <td>0.120000</td>\n",
              "      <td>0.000000</td>\n",
              "    </tr>\n",
              "    <tr>\n",
              "      <th>25%</th>\n",
              "      <td>90.750000</td>\n",
              "      <td>4.802500</td>\n",
              "      <td>41.750000</td>\n",
              "      <td>31.500000</td>\n",
              "      <td>2.490000</td>\n",
              "      <td>0.000000</td>\n",
              "    </tr>\n",
              "    <tr>\n",
              "      <th>50%</th>\n",
              "      <td>111.500000</td>\n",
              "      <td>6.140000</td>\n",
              "      <td>59.500000</td>\n",
              "      <td>52.500000</td>\n",
              "      <td>4.550000</td>\n",
              "      <td>0.500000</td>\n",
              "    </tr>\n",
              "    <tr>\n",
              "      <th>75%</th>\n",
              "      <td>134.000000</td>\n",
              "      <td>8.242500</td>\n",
              "      <td>78.750000</td>\n",
              "      <td>75.250000</td>\n",
              "      <td>7.060000</td>\n",
              "      <td>1.000000</td>\n",
              "    </tr>\n",
              "    <tr>\n",
              "      <th>max</th>\n",
              "      <td>150.000000</td>\n",
              "      <td>9.890000</td>\n",
              "      <td>100.000000</td>\n",
              "      <td>99.000000</td>\n",
              "      <td>9.900000</td>\n",
              "      <td>1.000000</td>\n",
              "    </tr>\n",
              "  </tbody>\n",
              "</table>\n",
              "</div>\n",
              "    <div class=\"colab-df-buttons\">\n",
              "\n",
              "  <div class=\"colab-df-container\">\n",
              "    <button class=\"colab-df-convert\" onclick=\"convertToInteractive('df-97ee7823-4682-4553-9ce8-2a9df4516001')\"\n",
              "            title=\"Convert this dataframe to an interactive table.\"\n",
              "            style=\"display:none;\">\n",
              "\n",
              "  <svg xmlns=\"http://www.w3.org/2000/svg\" height=\"24px\" viewBox=\"0 -960 960 960\">\n",
              "    <path d=\"M120-120v-720h720v720H120Zm60-500h600v-160H180v160Zm220 220h160v-160H400v160Zm0 220h160v-160H400v160ZM180-400h160v-160H180v160Zm440 0h160v-160H620v160ZM180-180h160v-160H180v160Zm440 0h160v-160H620v160Z\"/>\n",
              "  </svg>\n",
              "    </button>\n",
              "\n",
              "  <style>\n",
              "    .colab-df-container {\n",
              "      display:flex;\n",
              "      gap: 12px;\n",
              "    }\n",
              "\n",
              "    .colab-df-convert {\n",
              "      background-color: #E8F0FE;\n",
              "      border: none;\n",
              "      border-radius: 50%;\n",
              "      cursor: pointer;\n",
              "      display: none;\n",
              "      fill: #1967D2;\n",
              "      height: 32px;\n",
              "      padding: 0 0 0 0;\n",
              "      width: 32px;\n",
              "    }\n",
              "\n",
              "    .colab-df-convert:hover {\n",
              "      background-color: #E2EBFA;\n",
              "      box-shadow: 0px 1px 2px rgba(60, 64, 67, 0.3), 0px 1px 3px 1px rgba(60, 64, 67, 0.15);\n",
              "      fill: #174EA6;\n",
              "    }\n",
              "\n",
              "    .colab-df-buttons div {\n",
              "      margin-bottom: 4px;\n",
              "    }\n",
              "\n",
              "    [theme=dark] .colab-df-convert {\n",
              "      background-color: #3B4455;\n",
              "      fill: #D2E3FC;\n",
              "    }\n",
              "\n",
              "    [theme=dark] .colab-df-convert:hover {\n",
              "      background-color: #434B5C;\n",
              "      box-shadow: 0px 1px 3px 1px rgba(0, 0, 0, 0.15);\n",
              "      filter: drop-shadow(0px 1px 2px rgba(0, 0, 0, 0.3));\n",
              "      fill: #FFFFFF;\n",
              "    }\n",
              "  </style>\n",
              "\n",
              "    <script>\n",
              "      const buttonEl =\n",
              "        document.querySelector('#df-97ee7823-4682-4553-9ce8-2a9df4516001 button.colab-df-convert');\n",
              "      buttonEl.style.display =\n",
              "        google.colab.kernel.accessAllowed ? 'block' : 'none';\n",
              "\n",
              "      async function convertToInteractive(key) {\n",
              "        const element = document.querySelector('#df-97ee7823-4682-4553-9ce8-2a9df4516001');\n",
              "        const dataTable =\n",
              "          await google.colab.kernel.invokeFunction('convertToInteractive',\n",
              "                                                    [key], {});\n",
              "        if (!dataTable) return;\n",
              "\n",
              "        const docLinkHtml = 'Like what you see? Visit the ' +\n",
              "          '<a target=\"_blank\" href=https://colab.research.google.com/notebooks/data_table.ipynb>data table notebook</a>'\n",
              "          + ' to learn more about interactive tables.';\n",
              "        element.innerHTML = '';\n",
              "        dataTable['output_type'] = 'display_data';\n",
              "        await google.colab.output.renderOutput(dataTable, element);\n",
              "        const docLink = document.createElement('div');\n",
              "        docLink.innerHTML = docLinkHtml;\n",
              "        element.appendChild(docLink);\n",
              "      }\n",
              "    </script>\n",
              "  </div>\n",
              "\n",
              "\n",
              "<div id=\"df-9f6fe916-8d9f-4cdd-a19e-48a025ca6471\">\n",
              "  <button class=\"colab-df-quickchart\" onclick=\"quickchart('df-9f6fe916-8d9f-4cdd-a19e-48a025ca6471')\"\n",
              "            title=\"Suggest charts\"\n",
              "            style=\"display:none;\">\n",
              "\n",
              "<svg xmlns=\"http://www.w3.org/2000/svg\" height=\"24px\"viewBox=\"0 0 24 24\"\n",
              "     width=\"24px\">\n",
              "    <g>\n",
              "        <path d=\"M19 3H5c-1.1 0-2 .9-2 2v14c0 1.1.9 2 2 2h14c1.1 0 2-.9 2-2V5c0-1.1-.9-2-2-2zM9 17H7v-7h2v7zm4 0h-2V7h2v10zm4 0h-2v-4h2v4z\"/>\n",
              "    </g>\n",
              "</svg>\n",
              "  </button>\n",
              "\n",
              "<style>\n",
              "  .colab-df-quickchart {\n",
              "      --bg-color: #E8F0FE;\n",
              "      --fill-color: #1967D2;\n",
              "      --hover-bg-color: #E2EBFA;\n",
              "      --hover-fill-color: #174EA6;\n",
              "      --disabled-fill-color: #AAA;\n",
              "      --disabled-bg-color: #DDD;\n",
              "  }\n",
              "\n",
              "  [theme=dark] .colab-df-quickchart {\n",
              "      --bg-color: #3B4455;\n",
              "      --fill-color: #D2E3FC;\n",
              "      --hover-bg-color: #434B5C;\n",
              "      --hover-fill-color: #FFFFFF;\n",
              "      --disabled-bg-color: #3B4455;\n",
              "      --disabled-fill-color: #666;\n",
              "  }\n",
              "\n",
              "  .colab-df-quickchart {\n",
              "    background-color: var(--bg-color);\n",
              "    border: none;\n",
              "    border-radius: 50%;\n",
              "    cursor: pointer;\n",
              "    display: none;\n",
              "    fill: var(--fill-color);\n",
              "    height: 32px;\n",
              "    padding: 0;\n",
              "    width: 32px;\n",
              "  }\n",
              "\n",
              "  .colab-df-quickchart:hover {\n",
              "    background-color: var(--hover-bg-color);\n",
              "    box-shadow: 0 1px 2px rgba(60, 64, 67, 0.3), 0 1px 3px 1px rgba(60, 64, 67, 0.15);\n",
              "    fill: var(--button-hover-fill-color);\n",
              "  }\n",
              "\n",
              "  .colab-df-quickchart-complete:disabled,\n",
              "  .colab-df-quickchart-complete:disabled:hover {\n",
              "    background-color: var(--disabled-bg-color);\n",
              "    fill: var(--disabled-fill-color);\n",
              "    box-shadow: none;\n",
              "  }\n",
              "\n",
              "  .colab-df-spinner {\n",
              "    border: 2px solid var(--fill-color);\n",
              "    border-color: transparent;\n",
              "    border-bottom-color: var(--fill-color);\n",
              "    animation:\n",
              "      spin 1s steps(1) infinite;\n",
              "  }\n",
              "\n",
              "  @keyframes spin {\n",
              "    0% {\n",
              "      border-color: transparent;\n",
              "      border-bottom-color: var(--fill-color);\n",
              "      border-left-color: var(--fill-color);\n",
              "    }\n",
              "    20% {\n",
              "      border-color: transparent;\n",
              "      border-left-color: var(--fill-color);\n",
              "      border-top-color: var(--fill-color);\n",
              "    }\n",
              "    30% {\n",
              "      border-color: transparent;\n",
              "      border-left-color: var(--fill-color);\n",
              "      border-top-color: var(--fill-color);\n",
              "      border-right-color: var(--fill-color);\n",
              "    }\n",
              "    40% {\n",
              "      border-color: transparent;\n",
              "      border-right-color: var(--fill-color);\n",
              "      border-top-color: var(--fill-color);\n",
              "    }\n",
              "    60% {\n",
              "      border-color: transparent;\n",
              "      border-right-color: var(--fill-color);\n",
              "    }\n",
              "    80% {\n",
              "      border-color: transparent;\n",
              "      border-right-color: var(--fill-color);\n",
              "      border-bottom-color: var(--fill-color);\n",
              "    }\n",
              "    90% {\n",
              "      border-color: transparent;\n",
              "      border-bottom-color: var(--fill-color);\n",
              "    }\n",
              "  }\n",
              "</style>\n",
              "\n",
              "  <script>\n",
              "    async function quickchart(key) {\n",
              "      const quickchartButtonEl =\n",
              "        document.querySelector('#' + key + ' button');\n",
              "      quickchartButtonEl.disabled = true;  // To prevent multiple clicks.\n",
              "      quickchartButtonEl.classList.add('colab-df-spinner');\n",
              "      try {\n",
              "        const charts = await google.colab.kernel.invokeFunction(\n",
              "            'suggestCharts', [key], {});\n",
              "      } catch (error) {\n",
              "        console.error('Error during call to suggestCharts:', error);\n",
              "      }\n",
              "      quickchartButtonEl.classList.remove('colab-df-spinner');\n",
              "      quickchartButtonEl.classList.add('colab-df-quickchart-complete');\n",
              "    }\n",
              "    (() => {\n",
              "      let quickchartButtonEl =\n",
              "        document.querySelector('#df-9f6fe916-8d9f-4cdd-a19e-48a025ca6471 button');\n",
              "      quickchartButtonEl.style.display =\n",
              "        google.colab.kernel.accessAllowed ? 'block' : 'none';\n",
              "    })();\n",
              "  </script>\n",
              "</div>\n",
              "\n",
              "    </div>\n",
              "  </div>\n"
            ],
            "application/vnd.google.colaboratory.intrinsic+json": {
              "type": "dataframe",
              "summary": "{\n  \"name\": \"data\",\n  \"rows\": 8,\n  \"fields\": [\n    {\n      \"column\": \"IQ\",\n      \"properties\": {\n        \"dtype\": \"number\",\n        \"std\": 39.03820501639256,\n        \"min\": 23.993204004130803,\n        \"max\": 150.0,\n        \"num_unique_values\": 8,\n        \"samples\": [\n          111.23,\n          111.5,\n          100.0\n        ],\n        \"semantic_type\": \"\",\n        \"description\": \"\"\n      }\n    },\n    {\n      \"column\": \"CGPA\",\n      \"properties\": {\n        \"dtype\": \"number\",\n        \"std\": 33.40303628618238,\n        \"min\": 2.0418011557436144,\n        \"max\": 100.0,\n        \"num_unique_values\": 8,\n        \"samples\": [\n          6.4066,\n          6.14,\n          100.0\n        ],\n        \"semantic_type\": \"\",\n        \"description\": \"\"\n      }\n    },\n    {\n      \"column\": \"10th_Marks\",\n      \"properties\": {\n        \"dtype\": \"number\",\n        \"std\": 31.38233945664268,\n        \"min\": 20.0,\n        \"max\": 100.0,\n        \"num_unique_values\": 7,\n        \"samples\": [\n          100.0,\n          60.5,\n          59.5\n        ],\n        \"semantic_type\": \"\",\n        \"description\": \"\"\n      }\n    },\n    {\n      \"column\": \"12th_Marks\",\n      \"properties\": {\n        \"dtype\": \"number\",\n        \"std\": 33.30533674537717,\n        \"min\": 10.0,\n        \"max\": 100.0,\n        \"num_unique_values\": 8,\n        \"samples\": [\n          53.18,\n          52.5,\n          100.0\n        ],\n        \"semantic_type\": \"\",\n        \"description\": \"\"\n      }\n    },\n    {\n      \"column\": \"Communication_Skills\",\n      \"properties\": {\n        \"dtype\": \"number\",\n        \"std\": 33.87728395668436,\n        \"min\": 0.12,\n        \"max\": 100.0,\n        \"num_unique_values\": 8,\n        \"samples\": [\n          4.7848999999999995,\n          4.55,\n          100.0\n        ],\n        \"semantic_type\": \"\",\n        \"description\": \"\"\n      }\n    },\n    {\n      \"column\": \"Placed\",\n      \"properties\": {\n        \"dtype\": \"number\",\n        \"std\": 35.180465557149546,\n        \"min\": 0.0,\n        \"max\": 100.0,\n        \"num_unique_values\": 5,\n        \"samples\": [\n          0.5,\n          1.0,\n          0.502518907629606\n        ],\n        \"semantic_type\": \"\",\n        \"description\": \"\"\n      }\n    }\n  ]\n}"
            }
          },
          "metadata": {},
          "execution_count": 12
        }
      ]
    },
    {
      "cell_type": "code",
      "source": [
        "data.info()"
      ],
      "metadata": {
        "colab": {
          "base_uri": "https://localhost:8080/"
        },
        "id": "WQ9cPibWV2rz",
        "outputId": "e2c0a984-f8e7-4416-df3f-6d43dc49e6ed"
      },
      "execution_count": 14,
      "outputs": [
        {
          "output_type": "stream",
          "name": "stdout",
          "text": [
            "<class 'pandas.core.frame.DataFrame'>\n",
            "RangeIndex: 100 entries, 0 to 99\n",
            "Data columns (total 6 columns):\n",
            " #   Column                Non-Null Count  Dtype  \n",
            "---  ------                --------------  -----  \n",
            " 0   IQ                    100 non-null    int64  \n",
            " 1   CGPA                  100 non-null    float64\n",
            " 2   10th_Marks            100 non-null    int64  \n",
            " 3   12th_Marks            100 non-null    int64  \n",
            " 4   Communication_Skills  100 non-null    float64\n",
            " 5   Placed                100 non-null    int64  \n",
            "dtypes: float64(2), int64(4)\n",
            "memory usage: 4.8 KB\n"
          ]
        }
      ]
    },
    {
      "cell_type": "code",
      "source": [
        "import matplotlib.pyplot as plt\n",
        "import seaborn as sns\n",
        "sns.countplot(x='Placed',data=data)"
      ],
      "metadata": {
        "colab": {
          "base_uri": "https://localhost:8080/",
          "height": 466
        },
        "id": "S84yWW1dV69I",
        "outputId": "235b8329-ecc1-4cc6-a5bb-3d5197c5d996"
      },
      "execution_count": 17,
      "outputs": [
        {
          "output_type": "execute_result",
          "data": {
            "text/plain": [
              "<Axes: xlabel='Placed', ylabel='count'>"
            ]
          },
          "metadata": {},
          "execution_count": 17
        },
        {
          "output_type": "display_data",
          "data": {
            "text/plain": [
              "<Figure size 640x480 with 1 Axes>"
            ],
            "image/png": "[encoded data removed]"
          },
          "metadata": {}
        }
      ]
    },
    {
      "cell_type": "code",
      "source": [
        "plt.figure(figsize=(5,5))\n",
        "c=data.corr(numeric_only=True)\n",
        "sns.heatmap(c,annot=True)"
      ],
      "metadata": {
        "colab": {
          "base_uri": "https://localhost:8080/",
          "height": 606
        },
        "id": "5t5-UhYQWXJZ",
        "outputId": "ca5cf0e1-6c83-464e-b0d8-1a8c1112b419"
      },
      "execution_count": 18,
      "outputs": [
        {
          "output_type": "execute_result",
          "data": {
            "text/plain": [
              "<Axes: >"
            ]
          },
          "metadata": {},
          "execution_count": 18
        },
        {
          "output_type": "display_data",
          "data": {
            "text/plain": [
              "<Figure size 500x500 with 2 Axes>"
            ],
            "image/png": "[encoded data removed]"
          },
          "metadata": {}
        }
      ]
    },
    {
      "cell_type": "code",
      "source": [
        "x=data.drop(['IQ','Placed'],axis=1)\n",
        "y=data['Placed']"
      ],
      "metadata": {
        "id": "GB2yQMqyWms3"
      },
      "execution_count": 20,
      "outputs": []
    },
    {
      "cell_type": "code",
      "source": [
        "x_train,x_test,y_train,y_test=train_test_split(x,y,test_size=0.2,random_state=42)"
      ],
      "metadata": {
        "id": "M5sCBDviW2Uu"
      },
      "execution_count": 21,
      "outputs": []
    },
    {
      "cell_type": "code",
      "source": [
        "from sklearn.metrics import accuracy_score\n",
        "def objective(trial):\n",
        "    param = {\n",
        "        'n_neighbors': trial.suggest_int('n_neighbors',1,20),\n",
        "        'leaf_size': trial.suggest_int('leaf_size',10,50),\n",
        "        'weights': trial.suggest_categorical('weights',['uniform','distance']),\n",
        "        'metric': trial.suggest_categorical('metric',['euclidean','manhattan','minkowski']),\n",
        "        'algorithm': trial.suggest_categorical('algorithm',['auto','ball_tree','kd_tree','brute'])\n",
        "      }\n",
        "\n",
        "    model=KNeighborsClassifier(**param)\n",
        "    model.fit(x_train,y_train)\n",
        "\n",
        "    model_pred=model.predict(x_test)\n",
        "    accuracy=accuracy_score(y_test,model_pred)\n",
        "    return accuracy"
      ],
      "metadata": {
        "id": "LBpMdqSKYNWH"
      },
      "execution_count": 29,
      "outputs": []
    },
    {
      "cell_type": "code",
      "source": [
        "import optuna\n",
        "study=optuna.create_study(direction='maximize')\n",
        "study.optimize(objective,n_trials=50)\n",
        "print(\"best parameters: \",study.best_params)"
      ],
      "metadata": {
        "colab": {
          "base_uri": "https://localhost:8080/"
        },
        "id": "sLCF9h2IKLlp",
        "outputId": "8de7a9c0-a3cb-4b1f-d729-97d3294c2ec7"
      },
      "execution_count": 30,
      "outputs": [
        {
          "output_type": "stream",
          "name": "stderr",
          "text": [
            "[I 2024-07-07 17:07:49,462] A new study created in memory with name: no-name-dfb814ff-11d3-4a4a-be8d-52db06e09917\n",
            "[I 2024-07-07 17:07:49,507] Trial 0 finished with value: 0.55 and parameters: {'n_neighbors': 3, 'leaf_size': 29, 'weights': 'uniform', 'metric': 'euclidean', 'algorithm': 'auto'}. Best is trial 0 with value: 0.55.\n",
            "[I 2024-07-07 17:07:49,711] Trial 1 finished with value: 0.7 and parameters: {'n_neighbors': 17, 'leaf_size': 12, 'weights': 'uniform', 'metric': 'manhattan', 'algorithm': 'brute'}. Best is trial 1 with value: 0.7.\n",
            "[I 2024-07-07 17:07:49,756] Trial 2 finished with value: 0.65 and parameters: {'n_neighbors': 15, 'leaf_size': 32, 'weights': 'distance', 'metric': 'manhattan', 'algorithm': 'kd_tree'}. Best is trial 1 with value: 0.7.\n",
            "[I 2024-07-07 17:07:49,831] Trial 3 finished with value: 0.6 and parameters: {'n_neighbors': 17, 'leaf_size': 21, 'weights': 'distance', 'metric': 'manhattan', 'algorithm': 'brute'}. Best is trial 1 with value: 0.7.\n",
            "[I 2024-07-07 17:07:49,883] Trial 4 finished with value: 0.5 and parameters: {'n_neighbors': 1, 'leaf_size': 20, 'weights': 'distance', 'metric': 'minkowski', 'algorithm': 'kd_tree'}. Best is trial 1 with value: 0.7.\n",
            "[I 2024-07-07 17:07:49,948] Trial 5 finished with value: 0.65 and parameters: {'n_neighbors': 19, 'leaf_size': 43, 'weights': 'distance', 'metric': 'minkowski', 'algorithm': 'ball_tree'}. Best is trial 1 with value: 0.7.\n",
            "[I 2024-07-07 17:07:50,031] Trial 6 finished with value: 0.65 and parameters: {'n_neighbors': 12, 'leaf_size': 29, 'weights': 'distance', 'metric': 'manhattan', 'algorithm': 'brute'}. Best is trial 1 with value: 0.7.\n",
            "[I 2024-07-07 17:07:50,071] Trial 7 finished with value: 0.5 and parameters: {'n_neighbors': 8, 'leaf_size': 48, 'weights': 'distance', 'metric': 'minkowski', 'algorithm': 'auto'}. Best is trial 1 with value: 0.7.\n",
            "[I 2024-07-07 17:07:50,104] Trial 8 finished with value: 0.5 and parameters: {'n_neighbors': 6, 'leaf_size': 41, 'weights': 'distance', 'metric': 'euclidean', 'algorithm': 'auto'}. Best is trial 1 with value: 0.7.\n",
            "[I 2024-07-07 17:07:50,181] Trial 9 finished with value: 0.7 and parameters: {'n_neighbors': 19, 'leaf_size': 50, 'weights': 'uniform', 'metric': 'minkowski', 'algorithm': 'brute'}. Best is trial 1 with value: 0.7.\n",
            "[I 2024-07-07 17:07:50,247] Trial 10 finished with value: 0.65 and parameters: {'n_neighbors': 13, 'leaf_size': 11, 'weights': 'uniform', 'metric': 'manhattan', 'algorithm': 'ball_tree'}. Best is trial 1 with value: 0.7.\n",
            "[I 2024-07-07 17:07:50,378] Trial 11 finished with value: 0.7 and parameters: {'n_neighbors': 20, 'leaf_size': 10, 'weights': 'uniform', 'metric': 'minkowski', 'algorithm': 'brute'}. Best is trial 1 with value: 0.7.\n",
            "[I 2024-07-07 17:07:50,404] Trial 12 finished with value: 0.65 and parameters: {'n_neighbors': 16, 'leaf_size': 37, 'weights': 'uniform', 'metric': 'manhattan', 'algorithm': 'brute'}. Best is trial 1 with value: 0.7.\n",
            "[I 2024-07-07 17:07:50,431] Trial 13 finished with value: 0.7 and parameters: {'n_neighbors': 20, 'leaf_size': 50, 'weights': 'uniform', 'metric': 'minkowski', 'algorithm': 'brute'}. Best is trial 1 with value: 0.7.\n",
            "[I 2024-07-07 17:07:50,458] Trial 14 finished with value: 0.6 and parameters: {'n_neighbors': 10, 'leaf_size': 19, 'weights': 'uniform', 'metric': 'euclidean', 'algorithm': 'brute'}. Best is trial 1 with value: 0.7.\n",
            "[I 2024-07-07 17:07:50,486] Trial 15 finished with value: 0.7 and parameters: {'n_neighbors': 17, 'leaf_size': 35, 'weights': 'uniform', 'metric': 'manhattan', 'algorithm': 'brute'}. Best is trial 1 with value: 0.7.\n",
            "[I 2024-07-07 17:07:50,526] Trial 16 finished with value: 0.55 and parameters: {'n_neighbors': 13, 'leaf_size': 25, 'weights': 'uniform', 'metric': 'minkowski', 'algorithm': 'brute'}. Best is trial 1 with value: 0.7.\n",
            "[I 2024-07-07 17:07:50,553] Trial 17 finished with value: 0.7 and parameters: {'n_neighbors': 18, 'leaf_size': 15, 'weights': 'uniform', 'metric': 'manhattan', 'algorithm': 'kd_tree'}. Best is trial 1 with value: 0.7.\n",
            "[I 2024-07-07 17:07:50,581] Trial 18 finished with value: 0.6 and parameters: {'n_neighbors': 14, 'leaf_size': 44, 'weights': 'uniform', 'metric': 'minkowski', 'algorithm': 'ball_tree'}. Best is trial 1 with value: 0.7.\n",
            "[I 2024-07-07 17:07:50,610] Trial 19 finished with value: 0.6 and parameters: {'n_neighbors': 10, 'leaf_size': 26, 'weights': 'uniform', 'metric': 'euclidean', 'algorithm': 'brute'}. Best is trial 1 with value: 0.7.\n",
            "[I 2024-07-07 17:07:50,641] Trial 20 finished with value: 0.65 and parameters: {'n_neighbors': 16, 'leaf_size': 39, 'weights': 'uniform', 'metric': 'minkowski', 'algorithm': 'brute'}. Best is trial 1 with value: 0.7.\n",
            "[I 2024-07-07 17:07:50,670] Trial 21 finished with value: 0.7 and parameters: {'n_neighbors': 20, 'leaf_size': 10, 'weights': 'uniform', 'metric': 'minkowski', 'algorithm': 'brute'}. Best is trial 1 with value: 0.7.\n",
            "[I 2024-07-07 17:07:50,697] Trial 22 finished with value: 0.7 and parameters: {'n_neighbors': 20, 'leaf_size': 15, 'weights': 'uniform', 'metric': 'minkowski', 'algorithm': 'brute'}. Best is trial 1 with value: 0.7.\n",
            "[I 2024-07-07 17:07:50,725] Trial 23 finished with value: 0.65 and parameters: {'n_neighbors': 18, 'leaf_size': 14, 'weights': 'uniform', 'metric': 'minkowski', 'algorithm': 'brute'}. Best is trial 1 with value: 0.7.\n",
            "[I 2024-07-07 17:07:50,756] Trial 24 finished with value: 0.65 and parameters: {'n_neighbors': 18, 'leaf_size': 17, 'weights': 'uniform', 'metric': 'minkowski', 'algorithm': 'brute'}. Best is trial 1 with value: 0.7.\n",
            "[I 2024-07-07 17:07:50,782] Trial 25 finished with value: 0.65 and parameters: {'n_neighbors': 15, 'leaf_size': 23, 'weights': 'uniform', 'metric': 'manhattan', 'algorithm': 'brute'}. Best is trial 1 with value: 0.7.\n",
            "[I 2024-07-07 17:07:50,821] Trial 26 finished with value: 0.7 and parameters: {'n_neighbors': 19, 'leaf_size': 12, 'weights': 'uniform', 'metric': 'minkowski', 'algorithm': 'kd_tree'}. Best is trial 1 with value: 0.7.\n",
            "[I 2024-07-07 17:07:50,849] Trial 27 finished with value: 0.7 and parameters: {'n_neighbors': 17, 'leaf_size': 34, 'weights': 'uniform', 'metric': 'minkowski', 'algorithm': 'auto'}. Best is trial 1 with value: 0.7.\n",
            "[I 2024-07-07 17:07:50,877] Trial 28 finished with value: 0.7 and parameters: {'n_neighbors': 20, 'leaf_size': 10, 'weights': 'uniform', 'metric': 'euclidean', 'algorithm': 'ball_tree'}. Best is trial 1 with value: 0.7.\n",
            "[I 2024-07-07 17:07:50,908] Trial 29 finished with value: 0.55 and parameters: {'n_neighbors': 8, 'leaf_size': 27, 'weights': 'uniform', 'metric': 'manhattan', 'algorithm': 'auto'}. Best is trial 1 with value: 0.7.\n",
            "[I 2024-07-07 17:07:50,938] Trial 30 finished with value: 0.65 and parameters: {'n_neighbors': 15, 'leaf_size': 18, 'weights': 'uniform', 'metric': 'euclidean', 'algorithm': 'brute'}. Best is trial 1 with value: 0.7.\n",
            "[I 2024-07-07 17:07:50,966] Trial 31 finished with value: 0.7 and parameters: {'n_neighbors': 20, 'leaf_size': 48, 'weights': 'uniform', 'metric': 'minkowski', 'algorithm': 'brute'}. Best is trial 1 with value: 0.7.\n",
            "[I 2024-07-07 17:07:50,994] Trial 32 finished with value: 0.7 and parameters: {'n_neighbors': 19, 'leaf_size': 45, 'weights': 'uniform', 'metric': 'minkowski', 'algorithm': 'brute'}. Best is trial 1 with value: 0.7.\n",
            "[I 2024-07-07 17:07:51,022] Trial 33 finished with value: 0.65 and parameters: {'n_neighbors': 18, 'leaf_size': 50, 'weights': 'uniform', 'metric': 'minkowski', 'algorithm': 'brute'}. Best is trial 1 with value: 0.7.\n",
            "[I 2024-07-07 17:07:51,050] Trial 34 finished with value: 0.65 and parameters: {'n_neighbors': 16, 'leaf_size': 47, 'weights': 'uniform', 'metric': 'minkowski', 'algorithm': 'kd_tree'}. Best is trial 1 with value: 0.7.\n",
            "[I 2024-07-07 17:07:51,075] Trial 35 finished with value: 0.6 and parameters: {'n_neighbors': 19, 'leaf_size': 50, 'weights': 'distance', 'metric': 'manhattan', 'algorithm': 'brute'}. Best is trial 1 with value: 0.7.\n",
            "[I 2024-07-07 17:07:51,106] Trial 36 finished with value: 0.7 and parameters: {'n_neighbors': 17, 'leaf_size': 31, 'weights': 'uniform', 'metric': 'minkowski', 'algorithm': 'brute'}. Best is trial 1 with value: 0.7.\n",
            "[I 2024-07-07 17:07:51,134] Trial 37 finished with value: 0.5 and parameters: {'n_neighbors': 4, 'leaf_size': 41, 'weights': 'distance', 'metric': 'minkowski', 'algorithm': 'brute'}. Best is trial 1 with value: 0.7.\n",
            "[I 2024-07-07 17:07:51,162] Trial 38 finished with value: 0.75 and parameters: {'n_neighbors': 19, 'leaf_size': 46, 'weights': 'uniform', 'metric': 'manhattan', 'algorithm': 'ball_tree'}. Best is trial 38 with value: 0.75.\n",
            "[I 2024-07-07 17:07:51,190] Trial 39 finished with value: 0.65 and parameters: {'n_neighbors': 12, 'leaf_size': 22, 'weights': 'distance', 'metric': 'manhattan', 'algorithm': 'ball_tree'}. Best is trial 38 with value: 0.75.\n",
            "[I 2024-07-07 17:07:51,219] Trial 40 finished with value: 0.65 and parameters: {'n_neighbors': 15, 'leaf_size': 13, 'weights': 'uniform', 'metric': 'manhattan', 'algorithm': 'ball_tree'}. Best is trial 38 with value: 0.75.\n",
            "[I 2024-07-07 17:07:51,247] Trial 41 finished with value: 0.75 and parameters: {'n_neighbors': 19, 'leaf_size': 46, 'weights': 'uniform', 'metric': 'manhattan', 'algorithm': 'ball_tree'}. Best is trial 38 with value: 0.75.\n",
            "[I 2024-07-07 17:07:51,286] Trial 42 finished with value: 0.75 and parameters: {'n_neighbors': 19, 'leaf_size': 46, 'weights': 'uniform', 'metric': 'manhattan', 'algorithm': 'ball_tree'}. Best is trial 38 with value: 0.75.\n",
            "[I 2024-07-07 17:07:51,322] Trial 43 finished with value: 0.7 and parameters: {'n_neighbors': 18, 'leaf_size': 46, 'weights': 'uniform', 'metric': 'manhattan', 'algorithm': 'ball_tree'}. Best is trial 38 with value: 0.75.\n",
            "[I 2024-07-07 17:07:51,361] Trial 44 finished with value: 0.75 and parameters: {'n_neighbors': 19, 'leaf_size': 43, 'weights': 'uniform', 'metric': 'manhattan', 'algorithm': 'ball_tree'}. Best is trial 38 with value: 0.75.\n",
            "[I 2024-07-07 17:07:51,398] Trial 45 finished with value: 0.6 and parameters: {'n_neighbors': 19, 'leaf_size': 42, 'weights': 'distance', 'metric': 'manhattan', 'algorithm': 'ball_tree'}. Best is trial 38 with value: 0.75.\n",
            "[I 2024-07-07 17:07:51,436] Trial 46 finished with value: 0.65 and parameters: {'n_neighbors': 16, 'leaf_size': 39, 'weights': 'uniform', 'metric': 'manhattan', 'algorithm': 'ball_tree'}. Best is trial 38 with value: 0.75.\n",
            "[I 2024-07-07 17:07:51,474] Trial 47 finished with value: 0.7 and parameters: {'n_neighbors': 17, 'leaf_size': 43, 'weights': 'uniform', 'metric': 'manhattan', 'algorithm': 'ball_tree'}. Best is trial 38 with value: 0.75.\n",
            "[I 2024-07-07 17:07:51,503] Trial 48 finished with value: 0.7 and parameters: {'n_neighbors': 18, 'leaf_size': 39, 'weights': 'uniform', 'metric': 'manhattan', 'algorithm': 'ball_tree'}. Best is trial 38 with value: 0.75.\n",
            "[I 2024-07-07 17:07:51,545] Trial 49 finished with value: 0.6 and parameters: {'n_neighbors': 14, 'leaf_size': 45, 'weights': 'distance', 'metric': 'manhattan', 'algorithm': 'ball_tree'}. Best is trial 38 with value: 0.75.\n"
          ]
        },
        {
          "output_type": "stream",
          "name": "stdout",
          "text": [
            "best parameters:  {'n_neighbors': 19, 'leaf_size': 46, 'weights': 'uniform', 'metric': 'manhattan', 'algorithm': 'ball_tree'}\n"
          ]
        }
      ]
    },
    {
      "cell_type": "code",
      "source": [
        "best_params={'n_neighbors': 19, 'leaf_size': 46, 'weights': 'uniform', 'metric': 'manhattan', 'algorithm': 'ball_tree'}"
      ],
      "metadata": {
        "id": "XA5YmwmJKuBw"
      },
      "execution_count": 31,
      "outputs": []
    },
    {
      "cell_type": "code",
      "source": [
        "best_model=KNeighborsClassifier(**best_params)\n",
        "best_model.fit(x,y)\n"
      ],
      "metadata": {
        "colab": {
          "base_uri": "https://localhost:8080/",
          "height": 92
        },
        "id": "oP2MGTETK9_p",
        "outputId": "00c72fdc-ff34-4992-e3eb-f220eab539fa"
      },
      "execution_count": 32,
      "outputs": [
        {
          "output_type": "execute_result",
          "data": {
            "text/plain": [
              "KNeighborsClassifier(algorithm='ball_tree', leaf_size=46, metric='manhattan',\n",
              "                     n_neighbors=19)"
            ],
            "text/html": [
              "<style>#sk-container-id-1 {color: black;background-color: white;}#sk-container-id-1 pre{padding: 0;}#sk-container-id-1 div.sk-toggleable {background-color: white;}#sk-container-id-1 label.sk-toggleable__label {cursor: pointer;display: block;width: 100%;margin-bottom: 0;padding: 0.3em;box-sizing: border-box;text-align: center;}#sk-container-id-1 label.sk-toggleable__label-arrow:before {content: \"▸\";float: left;margin-right: 0.25em;color: #696969;}#sk-container-id-1 label.sk-toggleable__label-arrow:hover:before {color: black;}#sk-container-id-1 div.sk-estimator:hover label.sk-toggleable__label-arrow:before {color: black;}#sk-container-id-1 div.sk-toggleable__content {max-height: 0;max-width: 0;overflow: hidden;text-align: left;background-color: #f0f8ff;}#sk-container-id-1 div.sk-toggleable__content pre {margin: 0.2em;color: black;border-radius: 0.25em;background-color: #f0f8ff;}#sk-container-id-1 input.sk-toggleable__control:checked~div.sk-toggleable__content {max-height: 200px;max-width: 100%;overflow: auto;}#sk-container-id-1 input.sk-toggleable__control:checked~label.sk-toggleable__label-arrow:before {content: \"▾\";}#sk-container-id-1 div.sk-estimator input.sk-toggleable__control:checked~label.sk-toggleable__label {background-color: #d4ebff;}#sk-container-id-1 div.sk-label input.sk-toggleable__control:checked~label.sk-toggleable__label {background-color: #d4ebff;}#sk-container-id-1 input.sk-hidden--visually {border: 0;clip: rect(1px 1px 1px 1px);clip: rect(1px, 1px, 1px, 1px);height: 1px;margin: -1px;overflow: hidden;padding: 0;position: absolute;width: 1px;}#sk-container-id-1 div.sk-estimator {font-family: monospace;background-color: #f0f8ff;border: 1px dotted black;border-radius: 0.25em;box-sizing: border-box;margin-bottom: 0.5em;}#sk-container-id-1 div.sk-estimator:hover {background-color: #d4ebff;}#sk-container-id-1 div.sk-parallel-item::after {content: \"\";width: 100%;border-bottom: 1px solid gray;flex-grow: 1;}#sk-container-id-1 div.sk-label:hover label.sk-toggleable__label {background-color: #d4ebff;}#sk-container-id-1 div.sk-serial::before {content: \"\";position: absolute;border-left: 1px solid gray;box-sizing: border-box;top: 0;bottom: 0;left: 50%;z-index: 0;}#sk-container-id-1 div.sk-serial {display: flex;flex-direction: column;align-items: center;background-color: white;padding-right: 0.2em;padding-left: 0.2em;position: relative;}#sk-container-id-1 div.sk-item {position: relative;z-index: 1;}#sk-container-id-1 div.sk-parallel {display: flex;align-items: stretch;justify-content: center;background-color: white;position: relative;}#sk-container-id-1 div.sk-item::before, #sk-container-id-1 div.sk-parallel-item::before {content: \"\";position: absolute;border-left: 1px solid gray;box-sizing: border-box;top: 0;bottom: 0;left: 50%;z-index: -1;}#sk-container-id-1 div.sk-parallel-item {display: flex;flex-direction: column;z-index: 1;position: relative;background-color: white;}#sk-container-id-1 div.sk-parallel-item:first-child::after {align-self: flex-end;width: 50%;}#sk-container-id-1 div.sk-parallel-item:last-child::after {align-self: flex-start;width: 50%;}#sk-container-id-1 div.sk-parallel-item:only-child::after {width: 0;}#sk-container-id-1 div.sk-dashed-wrapped {border: 1px dashed gray;margin: 0 0.4em 0.5em 0.4em;box-sizing: border-box;padding-bottom: 0.4em;background-color: white;}#sk-container-id-1 div.sk-label label {font-family: monospace;font-weight: bold;display: inline-block;line-height: 1.2em;}#sk-container-id-1 div.sk-label-container {text-align: center;}#sk-container-id-1 div.sk-container {/* jupyter's `normalize.less` sets `[hidden] { display: none; }` but bootstrap.min.css set `[hidden] { display: none !important; }` so we also need the `!important` here to be able to override the default hidden behavior on the sphinx rendered scikit-learn.org. See: https://github.com/scikit-learn/scikit-learn/issues/21755 */display: inline-block !important;position: relative;}#sk-container-id-1 div.sk-text-repr-fallback {display: none;}</style><div id=\"sk-container-id-1\" class=\"sk-top-container\"><div class=\"sk-text-repr-fallback\"><pre>KNeighborsClassifier(algorithm=&#x27;ball_tree&#x27;, leaf_size=46, metric=&#x27;manhattan&#x27;,\n",
              "                     n_neighbors=19)</pre><b>In a Jupyter environment, please rerun this cell to show the HTML representation or trust the notebook. <br />On GitHub, the HTML representation is unable to render, please try loading this page with nbviewer.org.</b></div><div class=\"sk-container\" hidden><div class=\"sk-item\"><div class=\"sk-estimator sk-toggleable\"><input class=\"sk-toggleable__control sk-hidden--visually\" id=\"sk-estimator-id-1\" type=\"checkbox\" checked><label for=\"sk-estimator-id-1\" class=\"sk-toggleable__label sk-toggleable__label-arrow\">KNeighborsClassifier</label><div class=\"sk-toggleable__content\"><pre>KNeighborsClassifier(algorithm=&#x27;ball_tree&#x27;, leaf_size=46, metric=&#x27;manhattan&#x27;,\n",
              "                     n_neighbors=19)</pre></div></div></div></div></div>"
            ]
          },
          "metadata": {},
          "execution_count": 32
        }
      ]
    },
    {
      "cell_type": "code",
      "source": [
        "from sklearn.metrics import accuracy_score\n",
        "new=np.array([[3.14,\t54,\t97,\t2.62],[6.09 ,89,\t75,\t4.56\t]])\n",
        "predictions=best_model.predict(new)\n",
        "predictions"
      ],
      "metadata": {
        "colab": {
          "base_uri": "https://localhost:8080/"
        },
        "id": "uMj5pfBlLTnM",
        "outputId": "e29d1479-4850-4516-c20e-f39f13879725"
      },
      "execution_count": 39,
      "outputs": [
        {
          "output_type": "execute_result",
          "data": {
            "text/plain": [
              "array([0, 1])"
            ]
          },
          "metadata": {},
          "execution_count": 39
        }
      ]
    }
  ]
}